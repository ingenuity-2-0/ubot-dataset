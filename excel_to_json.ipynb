{
  "nbformat": 4,
  "nbformat_minor": 0,
  "metadata": {
    "colab": {
      "name": "excel to json.ipynb",
      "provenance": []
    },
    "kernelspec": {
      "name": "python3",
      "display_name": "Python 3"
    },
    "language_info": {
      "name": "python"
    }
  },
  "cells": [
    {
      "cell_type": "code",
      "execution_count": null,
      "metadata": {
        "id": "5HX1jDZiCSRd"
      },
      "outputs": [],
      "source": [
        "import pandas as pd\n",
        "import json"
      ]
    },
    {
      "cell_type": "code",
      "source": [
        "df = pd.read_csv('Dataset1.csv')"
      ],
      "metadata": {
        "id": "efFvPGHlCZIs"
      },
      "execution_count": null,
      "outputs": []
    },
    {
      "cell_type": "code",
      "source": [
        "df.head()"
      ],
      "metadata": {
        "colab": {
          "base_uri": "https://localhost:8080/",
          "height": 206
        },
        "id": "Vlw25UxrCxBO",
        "outputId": "4fbce594-0dcd-448c-e1c3-152f460d1f82"
      },
      "execution_count": null,
      "outputs": [
        {
          "output_type": "execute_result",
          "data": {
            "text/html": [
              "\n",
              "  <div id=\"df-e350ec8d-c28f-4264-98ee-00a7cb7f72f0\">\n",
              "    <div class=\"colab-df-container\">\n",
              "      <div>\n",
              "<style scoped>\n",
              "    .dataframe tbody tr th:only-of-type {\n",
              "        vertical-align: middle;\n",
              "    }\n",
              "\n",
              "    .dataframe tbody tr th {\n",
              "        vertical-align: top;\n",
              "    }\n",
              "\n",
              "    .dataframe thead th {\n",
              "        text-align: right;\n",
              "    }\n",
              "</style>\n",
              "<table border=\"1\" class=\"dataframe\">\n",
              "  <thead>\n",
              "    <tr style=\"text-align: right;\">\n",
              "      <th></th>\n",
              "      <th>SL</th>\n",
              "      <th>Class /Tag</th>\n",
              "      <th>Pattterns</th>\n",
              "      <th>Responses</th>\n",
              "    </tr>\n",
              "  </thead>\n",
              "  <tbody>\n",
              "    <tr>\n",
              "      <th>0</th>\n",
              "      <td>1.0</td>\n",
              "      <td>greeting</td>\n",
              "      <td>Hey</td>\n",
              "      <td>Hello,Thank you for knock me :-)</td>\n",
              "    </tr>\n",
              "    <tr>\n",
              "      <th>1</th>\n",
              "      <td>2.0</td>\n",
              "      <td>greeting</td>\n",
              "      <td>Hi</td>\n",
              "      <td>Hi,there,how can I help you ?</td>\n",
              "    </tr>\n",
              "    <tr>\n",
              "      <th>2</th>\n",
              "      <td>3.0</td>\n",
              "      <td>greeting</td>\n",
              "      <td>Is anyone there ?</td>\n",
              "      <td>Hello, how can I assist you?</td>\n",
              "    </tr>\n",
              "    <tr>\n",
              "      <th>3</th>\n",
              "      <td>4.0</td>\n",
              "      <td>greeting</td>\n",
              "      <td>Hello</td>\n",
              "      <td>Hi, how may I assist you?</td>\n",
              "    </tr>\n",
              "    <tr>\n",
              "      <th>4</th>\n",
              "      <td>5.0</td>\n",
              "      <td>greeting</td>\n",
              "      <td>Good day</td>\n",
              "      <td>Hello, what can I do to help?</td>\n",
              "    </tr>\n",
              "  </tbody>\n",
              "</table>\n",
              "</div>\n",
              "      <button class=\"colab-df-convert\" onclick=\"convertToInteractive('df-e350ec8d-c28f-4264-98ee-00a7cb7f72f0')\"\n",
              "              title=\"Convert this dataframe to an interactive table.\"\n",
              "              style=\"display:none;\">\n",
              "        \n",
              "  <svg xmlns=\"http://www.w3.org/2000/svg\" height=\"24px\"viewBox=\"0 0 24 24\"\n",
              "       width=\"24px\">\n",
              "    <path d=\"M0 0h24v24H0V0z\" fill=\"none\"/>\n",
              "    <path d=\"M18.56 5.44l.94 2.06.94-2.06 2.06-.94-2.06-.94-.94-2.06-.94 2.06-2.06.94zm-11 1L8.5 8.5l.94-2.06 2.06-.94-2.06-.94L8.5 2.5l-.94 2.06-2.06.94zm10 10l.94 2.06.94-2.06 2.06-.94-2.06-.94-.94-2.06-.94 2.06-2.06.94z\"/><path d=\"M17.41 7.96l-1.37-1.37c-.4-.4-.92-.59-1.43-.59-.52 0-1.04.2-1.43.59L10.3 9.45l-7.72 7.72c-.78.78-.78 2.05 0 2.83L4 21.41c.39.39.9.59 1.41.59.51 0 1.02-.2 1.41-.59l7.78-7.78 2.81-2.81c.8-.78.8-2.07 0-2.86zM5.41 20L4 18.59l7.72-7.72 1.47 1.35L5.41 20z\"/>\n",
              "  </svg>\n",
              "      </button>\n",
              "      \n",
              "  <style>\n",
              "    .colab-df-container {\n",
              "      display:flex;\n",
              "      flex-wrap:wrap;\n",
              "      gap: 12px;\n",
              "    }\n",
              "\n",
              "    .colab-df-convert {\n",
              "      background-color: #E8F0FE;\n",
              "      border: none;\n",
              "      border-radius: 50%;\n",
              "      cursor: pointer;\n",
              "      display: none;\n",
              "      fill: #1967D2;\n",
              "      height: 32px;\n",
              "      padding: 0 0 0 0;\n",
              "      width: 32px;\n",
              "    }\n",
              "\n",
              "    .colab-df-convert:hover {\n",
              "      background-color: #E2EBFA;\n",
              "      box-shadow: 0px 1px 2px rgba(60, 64, 67, 0.3), 0px 1px 3px 1px rgba(60, 64, 67, 0.15);\n",
              "      fill: #174EA6;\n",
              "    }\n",
              "\n",
              "    [theme=dark] .colab-df-convert {\n",
              "      background-color: #3B4455;\n",
              "      fill: #D2E3FC;\n",
              "    }\n",
              "\n",
              "    [theme=dark] .colab-df-convert:hover {\n",
              "      background-color: #434B5C;\n",
              "      box-shadow: 0px 1px 3px 1px rgba(0, 0, 0, 0.15);\n",
              "      filter: drop-shadow(0px 1px 2px rgba(0, 0, 0, 0.3));\n",
              "      fill: #FFFFFF;\n",
              "    }\n",
              "  </style>\n",
              "\n",
              "      <script>\n",
              "        const buttonEl =\n",
              "          document.querySelector('#df-e350ec8d-c28f-4264-98ee-00a7cb7f72f0 button.colab-df-convert');\n",
              "        buttonEl.style.display =\n",
              "          google.colab.kernel.accessAllowed ? 'block' : 'none';\n",
              "\n",
              "        async function convertToInteractive(key) {\n",
              "          const element = document.querySelector('#df-e350ec8d-c28f-4264-98ee-00a7cb7f72f0');\n",
              "          const dataTable =\n",
              "            await google.colab.kernel.invokeFunction('convertToInteractive',\n",
              "                                                     [key], {});\n",
              "          if (!dataTable) return;\n",
              "\n",
              "          const docLinkHtml = 'Like what you see? Visit the ' +\n",
              "            '<a target=\"_blank\" href=https://colab.research.google.com/notebooks/data_table.ipynb>data table notebook</a>'\n",
              "            + ' to learn more about interactive tables.';\n",
              "          element.innerHTML = '';\n",
              "          dataTable['output_type'] = 'display_data';\n",
              "          await google.colab.output.renderOutput(dataTable, element);\n",
              "          const docLink = document.createElement('div');\n",
              "          docLink.innerHTML = docLinkHtml;\n",
              "          element.appendChild(docLink);\n",
              "        }\n",
              "      </script>\n",
              "    </div>\n",
              "  </div>\n",
              "  "
            ],
            "text/plain": [
              "    SL Class /Tag          Pattterns                         Responses\n",
              "0  1.0   greeting               Hey   Hello,Thank you for knock me :-)\n",
              "1  2.0   greeting                 Hi     Hi,there,how can I help you ?\n",
              "2  3.0   greeting  Is anyone there ?      Hello, how can I assist you?\n",
              "3  4.0   greeting              Hello         Hi, how may I assist you?\n",
              "4  5.0   greeting           Good day     Hello, what can I do to help?"
            ]
          },
          "metadata": {},
          "execution_count": 3
        }
      ]
    },
    {
      "cell_type": "code",
      "source": [
        "df.info()"
      ],
      "metadata": {
        "colab": {
          "base_uri": "https://localhost:8080/"
        },
        "id": "PvGklB6PC01V",
        "outputId": "7da1d280-13a2-49ea-eb05-0bbfde9af4cc"
      },
      "execution_count": null,
      "outputs": [
        {
          "output_type": "stream",
          "name": "stdout",
          "text": [
            "<class 'pandas.core.frame.DataFrame'>\n",
            "RangeIndex: 2000 entries, 0 to 1999\n",
            "Data columns (total 4 columns):\n",
            " #   Column      Non-Null Count  Dtype  \n",
            "---  ------      --------------  -----  \n",
            " 0   SL          1997 non-null   float64\n",
            " 1   Class /Tag  84 non-null     object \n",
            " 2   Pattterns   84 non-null     object \n",
            " 3   Responses   80 non-null     object \n",
            "dtypes: float64(1), object(3)\n",
            "memory usage: 62.6+ KB\n"
          ]
        }
      ]
    },
    {
      "cell_type": "code",
      "source": [
        "df1 = df.dropna()"
      ],
      "metadata": {
        "id": "nUhh824uC4h8"
      },
      "execution_count": null,
      "outputs": []
    },
    {
      "cell_type": "code",
      "source": [
        "df1.info()"
      ],
      "metadata": {
        "colab": {
          "base_uri": "https://localhost:8080/"
        },
        "id": "WE61IZpBDBMV",
        "outputId": "d5af1ffe-9e28-44c4-e539-3cff63d6d075"
      },
      "execution_count": null,
      "outputs": [
        {
          "output_type": "stream",
          "name": "stdout",
          "text": [
            "<class 'pandas.core.frame.DataFrame'>\n",
            "Int64Index: 79 entries, 0 to 91\n",
            "Data columns (total 4 columns):\n",
            " #   Column      Non-Null Count  Dtype  \n",
            "---  ------      --------------  -----  \n",
            " 0   SL          79 non-null     float64\n",
            " 1   Class /Tag  79 non-null     object \n",
            " 2   Pattterns   79 non-null     object \n",
            " 3   Responses   79 non-null     object \n",
            "dtypes: float64(1), object(3)\n",
            "memory usage: 3.1+ KB\n"
          ]
        }
      ]
    },
    {
      "cell_type": "code",
      "source": [
        "df = df1"
      ],
      "metadata": {
        "id": "QvqESHVZDEhs"
      },
      "execution_count": null,
      "outputs": []
    },
    {
      "cell_type": "code",
      "source": [
        "g_df = df.groupby('Class /Tag')"
      ],
      "metadata": {
        "id": "jvuw-5K4Doyr"
      },
      "execution_count": null,
      "outputs": []
    },
    {
      "cell_type": "code",
      "source": [
        "g_df.first()"
      ],
      "metadata": {
        "colab": {
          "base_uri": "https://localhost:8080/",
          "height": 727
        },
        "id": "d1dbBFWeEyGw",
        "outputId": "e7b73d11-2668-4cf1-bbd4-3a204d4a9242"
      },
      "execution_count": null,
      "outputs": [
        {
          "output_type": "execute_result",
          "data": {
            "text/html": [
              "\n",
              "  <div id=\"df-529292a7-5f6f-46df-8cd0-65850d36e5a6\">\n",
              "    <div class=\"colab-df-container\">\n",
              "      <div>\n",
              "<style scoped>\n",
              "    .dataframe tbody tr th:only-of-type {\n",
              "        vertical-align: middle;\n",
              "    }\n",
              "\n",
              "    .dataframe tbody tr th {\n",
              "        vertical-align: top;\n",
              "    }\n",
              "\n",
              "    .dataframe thead th {\n",
              "        text-align: right;\n",
              "    }\n",
              "</style>\n",
              "<table border=\"1\" class=\"dataframe\">\n",
              "  <thead>\n",
              "    <tr style=\"text-align: right;\">\n",
              "      <th></th>\n",
              "      <th>SL</th>\n",
              "      <th>Pattterns</th>\n",
              "      <th>Responses</th>\n",
              "    </tr>\n",
              "    <tr>\n",
              "      <th>Class /Tag</th>\n",
              "      <th></th>\n",
              "      <th></th>\n",
              "      <th></th>\n",
              "    </tr>\n",
              "  </thead>\n",
              "  <tbody>\n",
              "    <tr>\n",
              "      <th>about_cse</th>\n",
              "      <td>21.0</td>\n",
              "      <td>Why should I study CSE ?</td>\n",
              "      <td>CSE means Computer Science Engineering.Compute...</td>\n",
              "    </tr>\n",
              "    <tr>\n",
              "      <th>about_cse_uap</th>\n",
              "      <td>32.0</td>\n",
              "      <td>Why to choise Uap For CSE.</td>\n",
              "      <td>The department of CSE, UAP is striving for a p...</td>\n",
              "    </tr>\n",
              "    <tr>\n",
              "      <th>about_ubot</th>\n",
              "      <td>12.0</td>\n",
              "      <td>What is U-bot ?</td>\n",
              "      <td>It is a A.I Powerd Chat Bot.U-Bot stand for Ua...</td>\n",
              "    </tr>\n",
              "    <tr>\n",
              "      <th>admission_criteria</th>\n",
              "      <td>38.0</td>\n",
              "      <td>How can I apply for Admission?</td>\n",
              "      <td>Generally there are two tests with a gap of on...</td>\n",
              "    </tr>\n",
              "    <tr>\n",
              "      <th>admission_international_student</th>\n",
              "      <td>54.0</td>\n",
              "      <td>What is the admission criteria For internation...</td>\n",
              "      <td>It is necessary for a prospective student from...</td>\n",
              "    </tr>\n",
              "    <tr>\n",
              "      <th>admission_reuirement_garudate</th>\n",
              "      <td>66.0</td>\n",
              "      <td>What are the requirements to apply for CSE in ...</td>\n",
              "      <td>SSC, HSC &amp; Graduation Requirements\\r\\nOne 1st ...</td>\n",
              "    </tr>\n",
              "    <tr>\n",
              "      <th>admission_reuirement_undergarudate</th>\n",
              "      <td>61.0</td>\n",
              "      <td>What are the requirements to apply for CSE in ...</td>\n",
              "      <td>Minimum GPA Requirements:\\r\\nTotal GPA in SSC ...</td>\n",
              "    </tr>\n",
              "    <tr>\n",
              "      <th>admission_transfer_student</th>\n",
              "      <td>47.0</td>\n",
              "      <td>What is the admission criteria For Transfer St...</td>\n",
              "      <td>Credit transfer students from other universiti...</td>\n",
              "    </tr>\n",
              "    <tr>\n",
              "      <th>class_routine</th>\n",
              "      <td>84.0</td>\n",
              "      <td>How do I find the CSE classroom routine?</td>\n",
              "      <td>Here you can find all the Class routine .Visit...</td>\n",
              "    </tr>\n",
              "    <tr>\n",
              "      <th>dept_academic_calender</th>\n",
              "      <td>88.0</td>\n",
              "      <td>Where can I find an education calendar?</td>\n",
              "      <td>Here you can find the academic Calender .Visit...</td>\n",
              "    </tr>\n",
              "    <tr>\n",
              "      <th>dept_faculty</th>\n",
              "      <td>77.0</td>\n",
              "      <td>What are the faculty members of CSE?</td>\n",
              "      <td>We have a good number of faculty with us .For ...</td>\n",
              "    </tr>\n",
              "    <tr>\n",
              "      <th>dept_head</th>\n",
              "      <td>72.0</td>\n",
              "      <td>Who is the department Head ?</td>\n",
              "      <td>Dr. Md. Rajibul Islam Is the head of deptpartm...</td>\n",
              "    </tr>\n",
              "    <tr>\n",
              "      <th>developer</th>\n",
              "      <td>15.0</td>\n",
              "      <td>Who made U-bot ?</td>\n",
              "      <td>It made by Ashraful Haque,Sabbir Hosen ,Mehrab...</td>\n",
              "    </tr>\n",
              "    <tr>\n",
              "      <th>goodbye</th>\n",
              "      <td>6.0</td>\n",
              "      <td>Bye</td>\n",
              "      <td>See you later,thanks for visiting</td>\n",
              "    </tr>\n",
              "    <tr>\n",
              "      <th>greeting</th>\n",
              "      <td>1.0</td>\n",
              "      <td>Hey</td>\n",
              "      <td>Hello,Thank you for knock me :-)</td>\n",
              "    </tr>\n",
              "    <tr>\n",
              "      <th>online_admission</th>\n",
              "      <td>42.0</td>\n",
              "      <td>Do the applicants apply for online admission?</td>\n",
              "      <td>Applicants can apply only online for admission...</td>\n",
              "    </tr>\n",
              "    <tr>\n",
              "      <th>semester_timing</th>\n",
              "      <td>27.0</td>\n",
              "      <td>How many semesters are offered yearly at UAP?</td>\n",
              "      <td>UAP offers 2 semesters a year: Spring &amp; Fall, ...</td>\n",
              "    </tr>\n",
              "  </tbody>\n",
              "</table>\n",
              "</div>\n",
              "      <button class=\"colab-df-convert\" onclick=\"convertToInteractive('df-529292a7-5f6f-46df-8cd0-65850d36e5a6')\"\n",
              "              title=\"Convert this dataframe to an interactive table.\"\n",
              "              style=\"display:none;\">\n",
              "        \n",
              "  <svg xmlns=\"http://www.w3.org/2000/svg\" height=\"24px\"viewBox=\"0 0 24 24\"\n",
              "       width=\"24px\">\n",
              "    <path d=\"M0 0h24v24H0V0z\" fill=\"none\"/>\n",
              "    <path d=\"M18.56 5.44l.94 2.06.94-2.06 2.06-.94-2.06-.94-.94-2.06-.94 2.06-2.06.94zm-11 1L8.5 8.5l.94-2.06 2.06-.94-2.06-.94L8.5 2.5l-.94 2.06-2.06.94zm10 10l.94 2.06.94-2.06 2.06-.94-2.06-.94-.94-2.06-.94 2.06-2.06.94z\"/><path d=\"M17.41 7.96l-1.37-1.37c-.4-.4-.92-.59-1.43-.59-.52 0-1.04.2-1.43.59L10.3 9.45l-7.72 7.72c-.78.78-.78 2.05 0 2.83L4 21.41c.39.39.9.59 1.41.59.51 0 1.02-.2 1.41-.59l7.78-7.78 2.81-2.81c.8-.78.8-2.07 0-2.86zM5.41 20L4 18.59l7.72-7.72 1.47 1.35L5.41 20z\"/>\n",
              "  </svg>\n",
              "      </button>\n",
              "      \n",
              "  <style>\n",
              "    .colab-df-container {\n",
              "      display:flex;\n",
              "      flex-wrap:wrap;\n",
              "      gap: 12px;\n",
              "    }\n",
              "\n",
              "    .colab-df-convert {\n",
              "      background-color: #E8F0FE;\n",
              "      border: none;\n",
              "      border-radius: 50%;\n",
              "      cursor: pointer;\n",
              "      display: none;\n",
              "      fill: #1967D2;\n",
              "      height: 32px;\n",
              "      padding: 0 0 0 0;\n",
              "      width: 32px;\n",
              "    }\n",
              "\n",
              "    .colab-df-convert:hover {\n",
              "      background-color: #E2EBFA;\n",
              "      box-shadow: 0px 1px 2px rgba(60, 64, 67, 0.3), 0px 1px 3px 1px rgba(60, 64, 67, 0.15);\n",
              "      fill: #174EA6;\n",
              "    }\n",
              "\n",
              "    [theme=dark] .colab-df-convert {\n",
              "      background-color: #3B4455;\n",
              "      fill: #D2E3FC;\n",
              "    }\n",
              "\n",
              "    [theme=dark] .colab-df-convert:hover {\n",
              "      background-color: #434B5C;\n",
              "      box-shadow: 0px 1px 3px 1px rgba(0, 0, 0, 0.15);\n",
              "      filter: drop-shadow(0px 1px 2px rgba(0, 0, 0, 0.3));\n",
              "      fill: #FFFFFF;\n",
              "    }\n",
              "  </style>\n",
              "\n",
              "      <script>\n",
              "        const buttonEl =\n",
              "          document.querySelector('#df-529292a7-5f6f-46df-8cd0-65850d36e5a6 button.colab-df-convert');\n",
              "        buttonEl.style.display =\n",
              "          google.colab.kernel.accessAllowed ? 'block' : 'none';\n",
              "\n",
              "        async function convertToInteractive(key) {\n",
              "          const element = document.querySelector('#df-529292a7-5f6f-46df-8cd0-65850d36e5a6');\n",
              "          const dataTable =\n",
              "            await google.colab.kernel.invokeFunction('convertToInteractive',\n",
              "                                                     [key], {});\n",
              "          if (!dataTable) return;\n",
              "\n",
              "          const docLinkHtml = 'Like what you see? Visit the ' +\n",
              "            '<a target=\"_blank\" href=https://colab.research.google.com/notebooks/data_table.ipynb>data table notebook</a>'\n",
              "            + ' to learn more about interactive tables.';\n",
              "          element.innerHTML = '';\n",
              "          dataTable['output_type'] = 'display_data';\n",
              "          await google.colab.output.renderOutput(dataTable, element);\n",
              "          const docLink = document.createElement('div');\n",
              "          docLink.innerHTML = docLinkHtml;\n",
              "          element.appendChild(docLink);\n",
              "        }\n",
              "      </script>\n",
              "    </div>\n",
              "  </div>\n",
              "  "
            ],
            "text/plain": [
              "                                      SL  ...                                          Responses\n",
              "Class /Tag                                ...                                                   \n",
              "about_cse                           21.0  ...  CSE means Computer Science Engineering.Compute...\n",
              "about_cse_uap                       32.0  ...  The department of CSE, UAP is striving for a p...\n",
              "about_ubot                          12.0  ...  It is a A.I Powerd Chat Bot.U-Bot stand for Ua...\n",
              "admission_criteria                  38.0  ...  Generally there are two tests with a gap of on...\n",
              "admission_international_student     54.0  ...  It is necessary for a prospective student from...\n",
              "admission_reuirement_garudate       66.0  ...  SSC, HSC & Graduation Requirements\\r\\nOne 1st ...\n",
              "admission_reuirement_undergarudate  61.0  ...  Minimum GPA Requirements:\\r\\nTotal GPA in SSC ...\n",
              "admission_transfer_student          47.0  ...  Credit transfer students from other universiti...\n",
              "class_routine                       84.0  ...  Here you can find all the Class routine .Visit...\n",
              "dept_academic_calender              88.0  ...  Here you can find the academic Calender .Visit...\n",
              "dept_faculty                        77.0  ...  We have a good number of faculty with us .For ...\n",
              "dept_head                           72.0  ...  Dr. Md. Rajibul Islam Is the head of deptpartm...\n",
              "developer                           15.0  ...  It made by Ashraful Haque,Sabbir Hosen ,Mehrab...\n",
              "goodbye                              6.0  ...                  See you later,thanks for visiting\n",
              "greeting                             1.0  ...                   Hello,Thank you for knock me :-)\n",
              "online_admission                    42.0  ...  Applicants can apply only online for admission...\n",
              "semester_timing                     27.0  ...  UAP offers 2 semesters a year: Spring & Fall, ...\n",
              "\n",
              "[17 rows x 3 columns]"
            ]
          },
          "metadata": {},
          "execution_count": 9
        }
      ]
    },
    {
      "cell_type": "code",
      "source": [
        "list_of = list()\n",
        "for name, x in g_df:\n",
        "    print(name, 'Name')\n",
        "    patterns = x['Pattterns'].tolist()\n",
        "    responses = x['Responses'].unique().tolist()\n",
        "    temp = {\n",
        "        'tag': name,\n",
        "        'patterns': patterns,\n",
        "        'responses': responses\n",
        "    }\n",
        "    list_of.append(temp)"
      ],
      "metadata": {
        "colab": {
          "base_uri": "https://localhost:8080/"
        },
        "id": "CBffmcJrFK_1",
        "outputId": "0d571d64-c241-4f1b-d547-f4dce39ccf88"
      },
      "execution_count": null,
      "outputs": [
        {
          "output_type": "stream",
          "name": "stdout",
          "text": [
            "about_cse Name\n",
            "about_cse_uap Name\n",
            "about_ubot Name\n",
            "admission_criteria Name\n",
            "admission_international_student Name\n",
            "admission_reuirement_garudate Name\n",
            "admission_reuirement_undergarudate Name\n",
            "admission_transfer_student Name\n",
            "class_routine Name\n",
            "dept_academic_calender Name\n",
            "dept_faculty Name\n",
            "dept_head Name\n",
            "developer Name\n",
            "goodbye Name\n",
            "greeting Name\n",
            "online_admission Name\n",
            "semester_timing Name\n"
          ]
        }
      ]
    },
    {
      "cell_type": "code",
      "source": [
        "print(list_of)"
      ],
      "metadata": {
        "colab": {
          "base_uri": "https://localhost:8080/"
        },
        "id": "YC2Mngk8F4G1",
        "outputId": "155dfc38-b144-4f6b-dd20-3b5d09fd89bc"
      },
      "execution_count": null,
      "outputs": [
        {
          "output_type": "stream",
          "name": "stdout",
          "text": [
            "[{'tag': 'about_cse', 'patterns': ['Why should I study CSE ?', 'Why do I have to study CSE?', 'Why should I learn about CSE?', 'What is CSE ?'], 'responses': ['CSE means Computer Science Engineering.Computer science is a dynamic and rapidly growing area that has become an integral part of the world that we live in today. Having a degree in this field will provide you with a deep understanding of theories and emerging technologies.']}, {'tag': 'about_cse_uap', 'patterns': ['Why to choise Uap For CSE.', 'Why CSE at UAP?'], 'responses': ['The department of CSE, UAP is striving for a pioneer role in ICT through excellence in education, research and development towards preparing graduates as a global leader with quality education, innovative ideas, extra-curricular activities and collaboration between industry and academia.']}, {'tag': 'about_ubot', 'patterns': ['What is U-bot ?', 'What does U-bot mean?', 'What does U-bot stand for?'], 'responses': ['It is a A.I Powerd Chat Bot.U-Bot stand for Uap Bot. ']}, {'tag': 'admission_criteria', 'patterns': ['How can I apply for Admission?', 'How can I apply to be admitted?', 'How do I apply for the program?', 'How do I apply to get in?'], 'responses': ['Generally there are two tests with a gap of one month in between. Applicants are allowed to appear in one test only (except some reasonable cases, for which the authority will follow a thorough scrutiny). All exams are conducted within the two months window before the semester class starts. Detailed timing is circulated both in daily newspapers and in our website “NOTICE” link']}, {'tag': 'admission_international_student', 'patterns': ['What is the admission criteria For international Students?', 'What are the admission requirements for international students?', 'What are the entrance requirements for international students?', 'What are the eligibility criteria for international students?', 'Is the application process the same for international students?', 'Is there a similar application process for international students?'], 'responses': ['It is necessary for a prospective student from abroad to demonstrate commitment and readiness to operate in a different cultural context. The selection process is relatively similar, with options of submitting the necessary documents online. All documents must be translated in English and attested by legal authorities. The applicant must fulfill if the department asks for some special documents (i/e Portfolio, recommendation letter etc.) or interview (via Skype or telephone). For further information please contact directly to the links below.\\r\\n\\r']}, {'tag': 'admission_reuirement_garudate', 'patterns': ['What are the requirements to apply for CSE in graduate level?', 'What are the requirements to apply for CSE at graduate level?', 'What are your graduate CSE requirements?', 'What are the post-level CSE requirements?', 'What are the requirements of graduate CSEs?'], 'responses': ['SSC, HSC & Graduation Requirements\\r\\nOne 1st class/ 1st Division\\r\\n50% Marks or CGPA 2.50 out of 4.00 in B. Sc Engineering\\r\\nMust not have 3rd Division/ class in any public examination']}, {'tag': 'admission_reuirement_undergarudate', 'patterns': ['What are the requirements to apply for CSE in Undergraduate level?', 'What are the requirements to apply for CSE at undergraduate level?', 'What are your undergraduate CSE requirements?', 'What are the entry-level CSE requirements?', 'What are the requirements of undergraduate CSEs?'], 'responses': ['Minimum GPA Requirements:\\r\\nTotal GPA in SSC & HSC = 7.50\\r\\nTotal GPA in O & A level=7.50\\r\\n(Candidates with minimum GPA of 2.5 in five subjects in O level and two subjects in A level).\\r\\n\\r\\nSubject Requirements:\\r\\nStudents must have Physics, Mathematics in HSC (or equivalent) and Chemistry either in SSC or HSC (or equivalent).']}, {'tag': 'admission_transfer_student', 'patterns': ['What is the admission criteria For Transfer Students?', 'What are the admission requirements for transferred students?', 'What are the entrance requirements for transferred students?', 'What are the admission criteria for transferees?', 'What are the eligibility criteria for transferred students?', 'Is the application process the same for transfer students?', 'Is there a similar application process for transfer students?'], 'responses': ['Credit transfer students from other universities are also considered for admission, however their application is considered case by case, taking into account their previous results and track record and also must pass the admission test if the department requires. The minimum GPA for a course is “B” to be considered as transferable. A transfer student must complete 50% of the required total credit hour in the university to be eligible for a degree from UAP.\\n\\nFor a student who has a study gap of more than two years prior to her/his application for admission is advised to contact directly to the admission office.']}, {'tag': 'class_routine', 'patterns': ['How do I find the CSE classroom routine?', 'Where can i find class routine of CSE ?', 'Where can I find the CSE classroom routine?'], 'responses': ['Here you can find all the Class routine .Visit https://cse.uap-bd.edu/routine/classroutine/']}, {'tag': 'dept_academic_calender', 'patterns': ['Where can I find an education calendar?', 'How do I find an academic calendar?', 'Where can I get an educational calendar?', 'academic calender ?'], 'responses': ['Here you can find the academic Calender .Visit https://cse.uap-bd.edu/routine/academic/']}, {'tag': 'dept_faculty', 'patterns': ['What are the faculty members of CSE?', 'Whom are the CSE faculty members?', 'Who are the CSE teachers?', 'Who are the CSE professors?', \"Who are CSE's academic staff?\", 'Who are the faculty at CSE?'], 'responses': ['We have a good number of faculty with us .For more details visit https://cse.uap-bd.edu/faculty/faculties_list/', 'We have many faculty members with us. To learn more, visit https://cse.uap-bd.edu/faculty/faculties_list/', 'We have lots of professors with us. For more information, visit https://cse.uap-bd.edu/faculty/faculties_list/']}, {'tag': 'dept_head', 'patterns': ['Who is the department Head ?', \"Who's in charge here?\", \"Who's in charge of the department?\", 'Who is the head of service?'], 'responses': ['Dr. Md. Rajibul Islam Is the head of deptpartment of Computer Science and Engineering .For more details please visit https://cse.uap-bd.edu/faculty/faculty_details/1']}, {'tag': 'developer', 'patterns': ['Who made U-bot ?', 'Who built  U-bot?', 'Who created  U-bot?', 'Who made uap cse chet bot?', 'Who are the developer of this chet bot ?', 'Who are the developer of u-bot ?'], 'responses': ['It made by Ashraful Haque,Sabbir Hosen ,Mehrab Anin, Shahriar Shafin.']}, {'tag': 'goodbye', 'patterns': ['Bye', 'See you later', 'See you later on.', \"I'll talk to you later.\", \"I'll see you in a while.\", 'See you in a couple of minutes.'], 'responses': ['See you later,thanks for visiting', 'See you later, thanks for stopping by.', 'See you later, thanks for checking in.', 'See you later, thanks for taking the time.']}, {'tag': 'greeting', 'patterns': ['Hey ', 'Hi', 'Is anyone there ?', 'Hello', 'Good day'], 'responses': ['Hello,Thank you for knock me :-)', 'Hi,there,how can I help you ?', 'Hello, how can I assist you?', 'Hi, how may I assist you?', 'Hello, what can I do to help?']}, {'tag': 'online_admission', 'patterns': ['Do the applicants apply for online admission?', 'Do applicants make an application online?', 'Are candidates submitting an application online?', 'Do candidates request admission online?', 'Do candidates apply online?'], 'responses': ['Applicants can apply only online for admission (https://admission.uap-bd.edu/Admission/Home.aspx).']}, {'tag': 'semester_timing', 'patterns': ['How many semesters are offered yearly at UAP?', 'How many semesters are offered annually at UAP?', 'How many semesters are offered every year in UAP?', 'How many semesters are offered per year to UAP?'], 'responses': ['UAP offers 2 semesters a year: Spring & Fall, and these start in January & July respectively']}]\n"
          ]
        }
      ]
    },
    {
      "cell_type": "code",
      "source": [
        "final = {'intents': list_of}"
      ],
      "metadata": {
        "id": "ePBDfBeuI21P"
      },
      "execution_count": null,
      "outputs": []
    },
    {
      "cell_type": "code",
      "source": [
        "print(final)"
      ],
      "metadata": {
        "colab": {
          "base_uri": "https://localhost:8080/"
        },
        "id": "OE-DkZXeJBr4",
        "outputId": "65db7d7b-3123-4806-ed63-42453b94ab8d"
      },
      "execution_count": null,
      "outputs": [
        {
          "output_type": "stream",
          "name": "stdout",
          "text": [
            "{'intents': [{'tag': 'about_cse', 'patterns': ['Why should I study CSE ?', 'Why do I have to study CSE?', 'Why should I learn about CSE?', 'What is CSE ?'], 'responses': ['CSE means Computer Science Engineering.Computer science is a dynamic and rapidly growing area that has become an integral part of the world that we live in today. Having a degree in this field will provide you with a deep understanding of theories and emerging technologies.']}, {'tag': 'about_cse_uap', 'patterns': ['Why to choise Uap For CSE.', 'Why CSE at UAP?'], 'responses': ['The department of CSE, UAP is striving for a pioneer role in ICT through excellence in education, research and development towards preparing graduates as a global leader with quality education, innovative ideas, extra-curricular activities and collaboration between industry and academia.']}, {'tag': 'about_ubot', 'patterns': ['What is U-bot ?', 'What does U-bot mean?', 'What does U-bot stand for?'], 'responses': ['It is a A.I Powerd Chat Bot.U-Bot stand for Uap Bot. ']}, {'tag': 'admission_criteria', 'patterns': ['How can I apply for Admission?', 'How can I apply to be admitted?', 'How do I apply for the program?', 'How do I apply to get in?'], 'responses': ['Generally there are two tests with a gap of one month in between. Applicants are allowed to appear in one test only (except some reasonable cases, for which the authority will follow a thorough scrutiny). All exams are conducted within the two months window before the semester class starts. Detailed timing is circulated both in daily newspapers and in our website “NOTICE” link']}, {'tag': 'admission_international_student', 'patterns': ['What is the admission criteria For international Students?', 'What are the admission requirements for international students?', 'What are the entrance requirements for international students?', 'What are the eligibility criteria for international students?', 'Is the application process the same for international students?', 'Is there a similar application process for international students?'], 'responses': ['It is necessary for a prospective student from abroad to demonstrate commitment and readiness to operate in a different cultural context. The selection process is relatively similar, with options of submitting the necessary documents online. All documents must be translated in English and attested by legal authorities. The applicant must fulfill if the department asks for some special documents (i/e Portfolio, recommendation letter etc.) or interview (via Skype or telephone). For further information please contact directly to the links below.\\r\\n\\r']}, {'tag': 'admission_reuirement_garudate', 'patterns': ['What are the requirements to apply for CSE in graduate level?', 'What are the requirements to apply for CSE at graduate level?', 'What are your graduate CSE requirements?', 'What are the post-level CSE requirements?', 'What are the requirements of graduate CSEs?'], 'responses': ['SSC, HSC & Graduation Requirements\\r\\nOne 1st class/ 1st Division\\r\\n50% Marks or CGPA 2.50 out of 4.00 in B. Sc Engineering\\r\\nMust not have 3rd Division/ class in any public examination']}, {'tag': 'admission_reuirement_undergarudate', 'patterns': ['What are the requirements to apply for CSE in Undergraduate level?', 'What are the requirements to apply for CSE at undergraduate level?', 'What are your undergraduate CSE requirements?', 'What are the entry-level CSE requirements?', 'What are the requirements of undergraduate CSEs?'], 'responses': ['Minimum GPA Requirements:\\r\\nTotal GPA in SSC & HSC = 7.50\\r\\nTotal GPA in O & A level=7.50\\r\\n(Candidates with minimum GPA of 2.5 in five subjects in O level and two subjects in A level).\\r\\n\\r\\nSubject Requirements:\\r\\nStudents must have Physics, Mathematics in HSC (or equivalent) and Chemistry either in SSC or HSC (or equivalent).']}, {'tag': 'admission_transfer_student', 'patterns': ['What is the admission criteria For Transfer Students?', 'What are the admission requirements for transferred students?', 'What are the entrance requirements for transferred students?', 'What are the admission criteria for transferees?', 'What are the eligibility criteria for transferred students?', 'Is the application process the same for transfer students?', 'Is there a similar application process for transfer students?'], 'responses': ['Credit transfer students from other universities are also considered for admission, however their application is considered case by case, taking into account their previous results and track record and also must pass the admission test if the department requires. The minimum GPA for a course is “B” to be considered as transferable. A transfer student must complete 50% of the required total credit hour in the university to be eligible for a degree from UAP.\\n\\nFor a student who has a study gap of more than two years prior to her/his application for admission is advised to contact directly to the admission office.']}, {'tag': 'class_routine', 'patterns': ['How do I find the CSE classroom routine?', 'Where can i find class routine of CSE ?', 'Where can I find the CSE classroom routine?'], 'responses': ['Here you can find all the Class routine .Visit https://cse.uap-bd.edu/routine/classroutine/']}, {'tag': 'dept_academic_calender', 'patterns': ['Where can I find an education calendar?', 'How do I find an academic calendar?', 'Where can I get an educational calendar?', 'academic calender ?'], 'responses': ['Here you can find the academic Calender .Visit https://cse.uap-bd.edu/routine/academic/']}, {'tag': 'dept_faculty', 'patterns': ['What are the faculty members of CSE?', 'Whom are the CSE faculty members?', 'Who are the CSE teachers?', 'Who are the CSE professors?', \"Who are CSE's academic staff?\", 'Who are the faculty at CSE?'], 'responses': ['We have a good number of faculty with us .For more details visit https://cse.uap-bd.edu/faculty/faculties_list/', 'We have many faculty members with us. To learn more, visit https://cse.uap-bd.edu/faculty/faculties_list/', 'We have lots of professors with us. For more information, visit https://cse.uap-bd.edu/faculty/faculties_list/']}, {'tag': 'dept_head', 'patterns': ['Who is the department Head ?', \"Who's in charge here?\", \"Who's in charge of the department?\", 'Who is the head of service?'], 'responses': ['Dr. Md. Rajibul Islam Is the head of deptpartment of Computer Science and Engineering .For more details please visit https://cse.uap-bd.edu/faculty/faculty_details/1']}, {'tag': 'developer', 'patterns': ['Who made U-bot ?', 'Who built  U-bot?', 'Who created  U-bot?', 'Who made uap cse chet bot?', 'Who are the developer of this chet bot ?', 'Who are the developer of u-bot ?'], 'responses': ['It made by Ashraful Haque,Sabbir Hosen ,Mehrab Anin, Shahriar Shafin.']}, {'tag': 'goodbye', 'patterns': ['Bye', 'See you later', 'See you later on.', \"I'll talk to you later.\", \"I'll see you in a while.\", 'See you in a couple of minutes.'], 'responses': ['See you later,thanks for visiting', 'See you later, thanks for stopping by.', 'See you later, thanks for checking in.', 'See you later, thanks for taking the time.']}, {'tag': 'greeting', 'patterns': ['Hey ', 'Hi', 'Is anyone there ?', 'Hello', 'Good day'], 'responses': ['Hello,Thank you for knock me :-)', 'Hi,there,how can I help you ?', 'Hello, how can I assist you?', 'Hi, how may I assist you?', 'Hello, what can I do to help?']}, {'tag': 'online_admission', 'patterns': ['Do the applicants apply for online admission?', 'Do applicants make an application online?', 'Are candidates submitting an application online?', 'Do candidates request admission online?', 'Do candidates apply online?'], 'responses': ['Applicants can apply only online for admission (https://admission.uap-bd.edu/Admission/Home.aspx).']}, {'tag': 'semester_timing', 'patterns': ['How many semesters are offered yearly at UAP?', 'How many semesters are offered annually at UAP?', 'How many semesters are offered every year in UAP?', 'How many semesters are offered per year to UAP?'], 'responses': ['UAP offers 2 semesters a year: Spring & Fall, and these start in January & July respectively']}]}\n"
          ]
        }
      ]
    },
    {
      "cell_type": "code",
      "source": [
        "with open(\"sample.json\", \"w\") as outfile:\n",
        "    json.dump(final, outfile)"
      ],
      "metadata": {
        "id": "YBy9p7N0JDJD"
      },
      "execution_count": null,
      "outputs": []
    },
    {
      "cell_type": "code",
      "source": [
        ""
      ],
      "metadata": {
        "id": "pRSpc6gmJi0l"
      },
      "execution_count": null,
      "outputs": []
    }
  ]
}